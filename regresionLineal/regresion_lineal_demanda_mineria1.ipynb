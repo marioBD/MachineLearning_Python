{
 "cells": [
  {
   "cell_type": "code",
   "execution_count": 95,
   "metadata": {
    "collapsed": false
   },
   "outputs": [],
   "source": [
    "import pandas as pd\n",
    "import matplotlib.pyplot as plt\n",
    "import pylab as pl\n",
    "import numpy as np\n",
    "%matplotlib inline\n",
    "import statsmodels.api as sm\n",
    "from statsmodels.formula.api import ols\n",
    "#libreria test normalidad\n",
    "from statsmodels.stats.stattools import (omni_normtest,robust_skewness, jarque_bera,\n",
    "                                         durbin_watson, _medcouple_1d, medcouple,\n",
    "                                         robust_kurtosis, robust_skewness)\n",
    "#libreria test normalidad\n",
    "from scipy import stats as st\n",
    "\n"
   ]
  },
  {
   "cell_type": "code",
   "execution_count": 5,
   "metadata": {
    "collapsed": false
   },
   "outputs": [],
   "source": [
    "df=pd.read_csv(\"D:/Estudios/PythonRegresion/demanda.csv\",encoding = \"ISO-8859-1\")"
   ]
  },
  {
   "cell_type": "code",
   "execution_count": 5,
   "metadata": {
    "collapsed": false
   },
   "outputs": [
    {
     "data": {
      "text/plain": [
       "[<matplotlib.lines.Line2D at 0xa5f91d0>]"
      ]
     },
     "execution_count": 5,
     "metadata": {},
     "output_type": "execute_result"
    },
    {
     "data": {
      "image/png": "[encoded data removed]",
      "text/plain": [
       "<matplotlib.figure.Figure at 0xa8808d0>"
      ]
     },
     "metadata": {},
     "output_type": "display_data"
    }
   ],
   "source": [
    "pl.plot(df['Celular'],df['Ingreso'], 'o')\n"
   ]
  },
  {
   "cell_type": "code",
   "execution_count": 6,
   "metadata": {
    "collapsed": false
   },
   "outputs": [
    {
     "data": {
      "text/plain": [
       "[<matplotlib.lines.Line2D at 0xa68bbe0>]"
      ]
     },
     "execution_count": 6,
     "metadata": {},
     "output_type": "execute_result"
    },
    {
     "data": {
      "image/png": "[encoded data removed]",
      "text/plain": [
       "<matplotlib.figure.Figure at 0xa627b38>"
      ]
     },
     "metadata": {},
     "output_type": "display_data"
    }
   ],
   "source": [
    "pl.plot(df['PC'],df['Ingreso'], 'o')"
   ]
  },
  {
   "cell_type": "code",
   "execution_count": 7,
   "metadata": {
    "collapsed": false
   },
   "outputs": [
    {
     "data": {
      "text/html": [
       "<div>\n",
       "<table border=\"1\" class=\"dataframe\">\n",
       "  <thead>\n",
       "    <tr style=\"text-align: right;\">\n",
       "      <th></th>\n",
       "      <th>Celular</th>\n",
       "      <th>PC</th>\n",
       "      <th>Ingreso</th>\n",
       "    </tr>\n",
       "  </thead>\n",
       "  <tbody>\n",
       "    <tr>\n",
       "      <th>Celular</th>\n",
       "      <td>1.000000</td>\n",
       "      <td>0.678923</td>\n",
       "      <td>0.777773</td>\n",
       "    </tr>\n",
       "    <tr>\n",
       "      <th>PC</th>\n",
       "      <td>0.678923</td>\n",
       "      <td>1.000000</td>\n",
       "      <td>0.891308</td>\n",
       "    </tr>\n",
       "    <tr>\n",
       "      <th>Ingreso</th>\n",
       "      <td>0.777773</td>\n",
       "      <td>0.891308</td>\n",
       "      <td>1.000000</td>\n",
       "    </tr>\n",
       "  </tbody>\n",
       "</table>\n",
       "</div>"
      ],
      "text/plain": [
       "          Celular        PC   Ingreso\n",
       "Celular  1.000000  0.678923  0.777773\n",
       "PC       0.678923  1.000000  0.891308\n",
       "Ingreso  0.777773  0.891308  1.000000"
      ]
     },
     "execution_count": 7,
     "metadata": {},
     "output_type": "execute_result"
    }
   ],
   "source": [
    "df.corr()"
   ]
  },
  {
   "cell_type": "code",
   "execution_count": 80,
   "metadata": {
    "collapsed": false
   },
   "outputs": [],
   "source": [
    "#modelo1 = sm.OLS(df['Ingreso'],sm.add_constant(df[['PC']])).fit()\n",
    "modelo1 = ols('Ingreso~PC',data=df).fit()"
   ]
  },
  {
   "cell_type": "code",
   "execution_count": 7,
   "metadata": {
    "collapsed": false
   },
   "outputs": [
    {
     "name": "stdout",
     "output_type": "stream",
     "text": [
      "                            OLS Regression Results                            \n",
      "==============================================================================\n",
      "Dep. Variable:                Ingreso   R-squared:                       0.794\n",
      "Model:                            OLS   Adj. R-squared:                  0.788\n",
      "Method:                 Least Squares   F-statistic:                     123.7\n",
      "Date:                Tue, 25 Apr 2017   Prob (F-statistic):           1.58e-12\n",
      "Time:                        11:11:16   Log-Likelihood:                -337.93\n",
      "No. Observations:                  34   AIC:                             679.9\n",
      "Df Residuals:                      32   BIC:                             682.9\n",
      "Df Model:                           1                                         \n",
      "Covariance Type:            nonrobust                                         \n",
      "==============================================================================\n",
      "                 coef    std err          t      P>|t|      [95.0% Conf. Int.]\n",
      "------------------------------------------------------------------------------\n",
      "const       5841.5496   1261.339      4.631      0.000      3272.287  8410.813\n",
      "PC           482.5922     43.397     11.120      0.000       394.196   570.988\n",
      "==============================================================================\n",
      "Omnibus:                        2.639   Durbin-Watson:                   1.561\n",
      "Prob(Omnibus):                  0.267   Jarque-Bera (JB):                1.895\n",
      "Skew:                           0.578   Prob(JB):                        0.388\n",
      "Kurtosis:                       3.057   Cond. No.                         41.4\n",
      "==============================================================================\n",
      "\n",
      "Warnings:\n",
      "[1] Standard Errors assume that the covariance matrix of the errors is correctly specified.\n"
     ]
    }
   ],
   "source": [
    "print(modelo1.summary())"
   ]
  },
  {
   "cell_type": "code",
   "execution_count": 30,
   "metadata": {
    "collapsed": false
   },
   "outputs": [
    {
     "name": "stdout",
     "output_type": "stream",
     "text": [
      "                sum_sq    df           F        PR(>F)\n",
      "PC        3.304187e+09   1.0  123.665333  1.584986e-12\n",
      "Residual  8.550011e+08  32.0         NaN           NaN\n"
     ]
    }
   ],
   "source": [
    "#Anova\n",
    "table = sm.stats.anova_lm(modelo1, typ=2)\n",
    "print(table)"
   ]
  },
  {
   "cell_type": "code",
   "execution_count": 67,
   "metadata": {
    "collapsed": false
   },
   "outputs": [
    {
     "data": {
      "text/plain": [
       "1.0699937667916803e-13"
      ]
     },
     "execution_count": 67,
     "metadata": {},
     "output_type": "execute_result"
    }
   ],
   "source": [
    "e=modelo1.resid\n",
    "#esperanza de error que sean a 0\n",
    "np.mean(e)"
   ]
  },
  {
   "cell_type": "code",
   "execution_count": 94,
   "metadata": {
    "collapsed": false
   },
   "outputs": [
    {
     "data": {
      "text/plain": [
       "(array([ 3.,  1.,  6.,  8.,  6.,  3.,  2.,  2.,  1.,  2.]),\n",
       " array([ -9052.26571554,  -6934.82210551,  -4817.37849548,  -2699.93488545,\n",
       "          -582.49127542,   1534.9523346 ,   3652.39594463,   5769.83955466,\n",
       "          7887.28316469,  10004.72677472,  12122.17038474]),\n",
       " <a list of 10 Patch objects>)"
      ]
     },
     "execution_count": 94,
     "metadata": {},
     "output_type": "execute_result"
    },
    {
     "data": {
      "image/png": "[encoded data removed]",
      "text/plain": [
       "<matplotlib.figure.Figure at 0xc0d1358>"
      ]
     },
     "metadata": {},
     "output_type": "display_data"
    }
   ],
   "source": [
    "plt.title('Histograma de Error')\n",
    "plt.hist(e)"
   ]
  },
  {
   "cell_type": "code",
   "execution_count": 93,
   "metadata": {
    "collapsed": false
   },
   "outputs": [
    {
     "data": {
      "text/plain": [
       "{'boxes': [<matplotlib.lines.Line2D at 0xc1c50f0>],\n",
       " 'caps': [<matplotlib.lines.Line2D at 0xc1ccac8>,\n",
       "  <matplotlib.lines.Line2D at 0xc1ccc88>],\n",
       " 'fliers': [<matplotlib.lines.Line2D at 0xc1d4cf8>],\n",
       " 'means': [],\n",
       " 'medians': [<matplotlib.lines.Line2D at 0xc1d44e0>],\n",
       " 'whiskers': [<matplotlib.lines.Line2D at 0xc1c5a58>,\n",
       "  <matplotlib.lines.Line2D at 0xc1c5c50>]}"
      ]
     },
     "execution_count": 93,
     "metadata": {},
     "output_type": "execute_result"
    },
    {
     "data": {
      "image/png": "[encoded data removed]",
      "text/plain": [
       "<matplotlib.figure.Figure at 0xc14cc88>"
      ]
     },
     "metadata": {},
     "output_type": "display_data"
    }
   ],
   "source": [
    "plt.boxplot(e)"
   ]
  },
  {
   "cell_type": "code",
   "execution_count": 107,
   "metadata": {
    "collapsed": false
   },
   "outputs": [
    {
     "data": {
      "text/plain": [
       "((array([-2.0500397 , -1.65502516, -1.41824878, -1.24178231, -1.09728771,\n",
       "         -0.97267593, -0.86159007, -0.76023875, -0.66615719, -0.57763676,\n",
       "         -0.49343093, -0.4125902 , -0.33436303, -0.25813285, -0.18337584,\n",
       "         -0.10963119, -0.03647875,  0.03647875,  0.10963119,  0.18337584,\n",
       "          0.25813285,  0.33436303,  0.4125902 ,  0.49343093,  0.57763676,\n",
       "          0.66615719,  0.76023875,  0.86159007,  0.97267593,  1.09728771,\n",
       "          1.24178231,  1.41824878,  1.65502516,  2.0500397 ]),\n",
       "  array([ -9052.26571554,  -8179.51058621,  -7885.5954728 ,  -6017.08132503,\n",
       "          -3987.10278146,  -3801.54960995,  -3444.1418052 ,  -3349.3261957 ,\n",
       "          -3349.3261957 ,  -3114.1418052 ,  -2309.3261957 ,  -2234.1418052 ,\n",
       "          -1844.51058621,  -1709.69497671,  -1395.97498202,  -1387.84034347,\n",
       "          -1234.87936721,   -722.28717196,   -321.91839095,     36.61721324,\n",
       "            551.43282273,    632.15965653,    910.30502329,   1071.79087553,\n",
       "           1707.71282804,   2062.17038474,   2689.93624229,   4269.9469705 ,\n",
       "           4907.72355625,   6656.60648502,   7635.50014201,   9888.82989927,\n",
       "          10197.71282804,  12122.17038474])),\n",
       " (5153.3381803754637, 4.1592891929478599e-13, 0.97752889998034243))"
      ]
     },
     "execution_count": 107,
     "metadata": {},
     "output_type": "execute_result"
    },
    {
     "data": {
      "image/png": "[encoded data removed]",
      "text/plain": [
       "<matplotlib.figure.Figure at 0xc6d1a20>"
      ]
     },
     "metadata": {},
     "output_type": "display_data"
    }
   ],
   "source": [
    " st.probplot(e, plot=plt)"
   ]
  },
  {
   "cell_type": "code",
   "execution_count": 62,
   "metadata": {
    "collapsed": false
   },
   "outputs": [
    {
     "data": {
      "text/plain": [
       "(1.8950524883718989, 0.38769891061078476)"
      ]
     },
     "execution_count": 62,
     "metadata": {},
     "output_type": "execute_result"
    }
   ],
   "source": [
    "#normalidad de errores\n",
    "st.jarque_bera(e)  # (jb_value , p-value)"
   ]
  },
  {
   "cell_type": "code",
   "execution_count": 65,
   "metadata": {
    "collapsed": false
   },
   "outputs": [
    {
     "data": {
      "text/plain": [
       "AndersonResult(statistic=0.61448701582607157, critical_values=array([ 0.526,  0.599,  0.718,  0.838,  0.996]), significance_level=array([ 15. ,  10. ,   5. ,   2.5,   1. ]))"
      ]
     },
     "execution_count": 65,
     "metadata": {},
     "output_type": "execute_result"
    }
   ],
   "source": [
    "st.anderson(e,dist='norm') "
   ]
  },
  {
   "cell_type": "code",
   "execution_count": 66,
   "metadata": {
    "collapsed": false
   },
   "outputs": [
    {
     "data": {
      "text/plain": [
       "(0.9537997245788574, 0.15951234102249146)"
      ]
     },
     "execution_count": 66,
     "metadata": {},
     "output_type": "execute_result"
    }
   ],
   "source": [
    "st.shapiro(e) #(W , p-value)"
   ]
  },
  {
   "cell_type": "code",
   "execution_count": 69,
   "metadata": {
    "collapsed": false
   },
   "outputs": [
    {
     "data": {
      "text/plain": [
       "(0.056953365423658919,\n",
       " 0.28778862103055913,\n",
       " 0.029142071181384122,\n",
       " 0.67820074410687692)"
      ]
     },
     "execution_count": 69,
     "metadata": {},
     "output_type": "execute_result"
    }
   ],
   "source": [
    "robust_kurtosis(e)"
   ]
  },
  {
   "cell_type": "code",
   "execution_count": 71,
   "metadata": {
    "collapsed": false
   },
   "outputs": [
    {
     "data": {
      "text/plain": [
       "(0.5775899115302107,\n",
       " 0.12161511519253164,\n",
       " 0.25873786184682523,\n",
       " 3.8914372710975676e-05)"
      ]
     },
     "execution_count": 71,
     "metadata": {},
     "output_type": "execute_result"
    }
   ],
   "source": [
    "robust_skewness(e)"
   ]
  },
  {
   "cell_type": "code",
   "execution_count": 72,
   "metadata": {
    "collapsed": false
   },
   "outputs": [
    {
     "data": {
      "text/plain": [
       "(1.8950524883718989,\n",
       " 0.38769891061078476,\n",
       " 0.5775899115302107,\n",
       " 3.056953365423659)"
      ]
     },
     "execution_count": 72,
     "metadata": {},
     "output_type": "execute_result"
    }
   ],
   "source": [
    "jarque_bera(e)"
   ]
  },
  {
   "cell_type": "code",
   "execution_count": 73,
   "metadata": {
    "collapsed": false
   },
   "outputs": [
    {
     "data": {
      "text/plain": [
       "1.5611031925765664"
      ]
     },
     "execution_count": 73,
     "metadata": {},
     "output_type": "execute_result"
    }
   ],
   "source": [
    "#independencia\n",
    "durbin_watson(e)"
   ]
  }
 ],
 "metadata": {
  "kernelspec": {
   "display_name": "Python 3",
   "language": "python",
   "name": "python3"
  },
  "language_info": {
   "codemirror_mode": {
    "name": "ipython",
    "version": 3
   },
   "file_extension": ".py",
   "mimetype": "text/x-python",
   "name": "python",
   "nbconvert_exporter": "python",
   "pygments_lexer": "ipython3",
   "version": "3.6.0"
  }
 },
 "nbformat": 4,
 "nbformat_minor": 2
}
